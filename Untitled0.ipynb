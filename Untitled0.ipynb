{
 "metadata": {
  "name": "",
  "signature": "sha256:f94a2af3d321cf8fa734a9669c42d111e05436b67d82d3fcf3e4ead98f6a4ea6"
 },
 "nbformat": 3,
 "nbformat_minor": 0,
 "worksheets": [
  {
   "cells": [
    {
     "cell_type": "code",
     "collapsed": false,
     "input": [],
     "language": "python",
     "metadata": {},
     "outputs": []
    },
    {
     "cell_type": "code",
     "collapsed": false,
     "input": [
      "#Search given fields for any instances of string similar to given string"
     ],
     "language": "python",
     "metadata": {},
     "outputs": []
    }
   ],
   "metadata": {}
  }
 ]
}