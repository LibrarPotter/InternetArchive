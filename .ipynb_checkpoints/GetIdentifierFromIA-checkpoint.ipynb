{
 "metadata": {
  "name": "",
  "signature": "sha256:51dd701d92148f75e3622c943db489f7b13a2453c98a6cf9e3c7d9617999a326"
 },
 "nbformat": 3,
 "nbformat_minor": 0,
 "worksheets": [
  {
   "cells": [
    {
     "cell_type": "code",
     "collapsed": false,
     "input": [
      "import requests\n",
      "import json\n",
      "import csv\n",
      "import codecs\n",
      "import cStringIO"
     ],
     "language": "python",
     "metadata": {},
     "outputs": [],
     "prompt_number": 11
    },
    {
     "cell_type": "code",
     "collapsed": false,
     "input": [
      "#UnicodeWriter from http://docs.python.org/2/library/csv.html#examples\n",
      "class UnicodeWriter:\n",
      "    def __init__(self, f, dialect=csv.excel, encoding=\"utf-8-sig\", **kwds):\n",
      "        self.queue = cStringIO.StringIO()\n",
      "        self.writer = csv.writer(self.queue, dialect=dialect, **kwds)\n",
      "        self.stream = f\n",
      "        self.encoder = codecs.getincrementalencoder(encoding)()\n",
      "    def writerow(self, row):\n",
      "        self.writer.writerow([s.encode(\"utf-8\") for s in row])\n",
      "        data = self.queue.getvalue()\n",
      "        data = data.decode(\"utf-8\")\n",
      "        data = self.encoder.encode(data)\n",
      "        self.stream.write(data)\n",
      "        self.queue.truncate(0)\n",
      "\n",
      "    def writerows(self, rows):\n",
      "        for row in rows:\n",
      "            self.writerow(row)\n",
      "\n",
      "#/end UnicodeWriter"
     ],
     "language": "python",
     "metadata": {},
     "outputs": [],
     "prompt_number": 12
    },
    {
     "cell_type": "code",
     "collapsed": false,
     "input": [
      "#goal is to take all the json results from Internet Archive API and print into a CSV file\n",
      "\n",
      "resultFile = open(\"IAresults.csv\",\"wb\")\n",
      "\n",
      "url = \"https://archive.org/advancedsearch.php?q=%28astro*%29+AND+mediatype%3Atexts+AND+date%3A[1800-01-01+TO+1950-12-31]+NOT+%28arXiv%29&fl[]=call_number&fl[]=collection&fl[]=contributor&fl[]=creator&fl[]=date&fl[]=format&fl[]=identifier&fl[]=publisher&fl[]=rights&fl[]=source&fl[]=subject&fl[]=title&fl[]=type&fl[]=volume&fl[]=week&fl[]=year&sort[]=&sort[]=&sort[]=&rows=10000&page=1&output=json&save=yes#raw\"\n",
      "content = requests.get(url)\n",
      "k=content.json() \n",
      "wr = UnicodeWriter(resultFile,dialect='excel',quoting=csv.QUOTE_ALL)\n",
      "\n",
      "#identify the number of results\n",
      "num = k['response']['numFound']\n",
      "print num\n",
      "#loop through the results printing to csv\n",
      "for i in range(0, num):\n",
      "    ID = k['response']['docs'][i]['identifier']\n",
      "    print ID\n",
      "    \n",
      "    try:\n",
      "        title = k['response']['docs'][i]['title']\n",
      "    except KeyError:\n",
      "        title = \"No Title\"\n",
      "    print title\n",
      "    \n",
      "    try:\n",
      "        publisher = k['response']['docs'][i]['publisher']\n",
      "        publishers = \"; \".join(publisher)\n",
      "    except KeyError:\n",
      "        publishers = \"No Publisher\"\n",
      "    print publishers\n",
      "    \n",
      "    try:\n",
      "        contributor = k['response']['docs'][i]['contributor']\n",
      "        contributors = \"; \".join(contributor)\n",
      "    except KeyError:\n",
      "        contributors = \"No Contributor\"\n",
      "    print contributors\n",
      "    \n",
      "    try:\n",
      "        dates = k['response']['docs'][i]['date']\n",
      "        #dates = \"; \".join(date)\n",
      "    except KeyError:\n",
      "        dates = \"No Date\"\n",
      "    if dates != \"No Date\":\n",
      "        dates = dates[:10]\n",
      "        print dates\n",
      "    else:\n",
      "        print dates\n",
      "    \n",
      "    \n",
      "    wr.writerow([ID]+[title]+[publishers]+[contributors]+[dates])\n",
      "\n",
      "resultFile.close()"
     ],
     "language": "python",
     "metadata": {},
     "outputs": [
      {
       "output_type": "stream",
       "stream": "stdout",
       "text": [
        "9347\n",
        "jstor-40670146\n",
        "A New Astronomical Periodical (Popular Astronomy)\n",
        "Publications of the Astronomical Society of the Pacific\n",
        "JSTOR\n"
       ]
      },
      {
       "ename": "TypeError",
       "evalue": "'unicode' object is not callable",
       "output_type": "pyerr",
       "traceback": [
        "\u001b[1;31m---------------------------------------------------------------------------\u001b[0m\n\u001b[1;31mTypeError\u001b[0m                                 Traceback (most recent call last)",
        "\u001b[1;32m<ipython-input-14-be52dce6ac68>\u001b[0m in \u001b[0;36m<module>\u001b[1;34m()\u001b[0m\n\u001b[0;32m     42\u001b[0m         \u001b[0mdates\u001b[0m \u001b[1;33m=\u001b[0m \u001b[1;34m\"No Date\"\u001b[0m\u001b[1;33m\u001b[0m\u001b[0m\n\u001b[0;32m     43\u001b[0m     \u001b[1;32mif\u001b[0m \u001b[0mdates\u001b[0m \u001b[1;33m!=\u001b[0m \u001b[1;34m\"No Date\"\u001b[0m\u001b[1;33m:\u001b[0m\u001b[1;33m\u001b[0m\u001b[0m\n\u001b[1;32m---> 44\u001b[1;33m         \u001b[0mdates\u001b[0m \u001b[1;33m=\u001b[0m \u001b[0mdate\u001b[0m\u001b[1;33m(\u001b[0m\u001b[0mdates\u001b[0m\u001b[1;33m[\u001b[0m\u001b[1;33m:\u001b[0m\u001b[1;36m10\u001b[0m\u001b[1;33m]\u001b[0m\u001b[1;33m)\u001b[0m\u001b[1;33m\u001b[0m\u001b[0m\n\u001b[0m\u001b[0;32m     45\u001b[0m         \u001b[1;32mprint\u001b[0m \u001b[0mdates\u001b[0m\u001b[1;33m\u001b[0m\u001b[0m\n\u001b[0;32m     46\u001b[0m     \u001b[1;32melse\u001b[0m\u001b[1;33m:\u001b[0m\u001b[1;33m\u001b[0m\u001b[0m\n",
        "\u001b[1;31mTypeError\u001b[0m: 'unicode' object is not callable"
       ]
      }
     ],
     "prompt_number": 14
    },
    {
     "cell_type": "code",
     "collapsed": false,
     "input": [],
     "language": "python",
     "metadata": {},
     "outputs": [],
     "prompt_number": 12
    },
    {
     "cell_type": "code",
     "collapsed": false,
     "input": [],
     "language": "python",
     "metadata": {},
     "outputs": []
    }
   ],
   "metadata": {}
  }
 ]
}